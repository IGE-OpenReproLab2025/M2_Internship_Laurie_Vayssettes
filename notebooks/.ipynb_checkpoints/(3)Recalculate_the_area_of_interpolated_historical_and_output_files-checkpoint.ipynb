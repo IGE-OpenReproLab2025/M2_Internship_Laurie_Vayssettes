{
 "cells": [
  {
   "cell_type": "markdown",
   "id": "54aad290-ec09-4032-8679-e7c4aff1a782",
   "metadata": {},
   "source": [
    "# Recalcul areacella des fichiers interpolés historiques et de sortie (SnowWarming)avec l'aide de cdo"
   ]
  },
  {
   "cell_type": "markdown",
   "id": "c26e1515-1634-4034-99b4-3f8367fbf8e9",
   "metadata": {},
   "source": [
    "## Objectif \n",
    "\n",
    "Comme fait précédemment pour les fichiers d'entrée et de sortie de la neige, il faut également recalculer l'ensemble des masques qui vont être utilisés. On commence ici par areacella qui correspond à la superficie de chaque cellule de grille."
   ]
  },
  {
   "cell_type": "code",
   "execution_count": 1,
   "id": "29b75a6f-4bd3-402c-8c99-820316552845",
   "metadata": {},
   "outputs": [
    {
     "name": "stdout",
     "output_type": "stream",
     "text": [
      "Last updated: 2025-06-27T08:24:07.307585+00:00\n",
      "\n",
      "Python implementation: CPython\n",
      "Python version       : 3.12.8\n",
      "IPython version      : 8.17.2\n",
      "\n",
      "Compiler    : GCC 13.3.0\n",
      "OS          : Linux\n",
      "Release     : 6.8.0-58-generic\n",
      "Machine     : x86_64\n",
      "Processor   : x86_64\n",
      "CPU cores   : 8\n",
      "Architecture: 64bit\n",
      "\n"
     ]
    }
   ],
   "source": [
    "from watermark import watermark\n",
    "%load_ext watermark\n",
    "print(watermark())"
   ]
  },
  {
   "cell_type": "code",
   "execution_count": 2,
   "id": "16e4b80e-5f73-475f-acc4-4bb1a4d47f4f",
   "metadata": {},
   "outputs": [
    {
     "name": "stdout",
     "output_type": "stream",
     "text": [
      "Projet root ajouté au path: /home/jovyan/M2_Snow_project/notebooks/codes_ORL_evaluation\n"
     ]
    }
   ],
   "source": [
    "import sys\n",
    "import os\n",
    "\n",
    "# Chemin absolu vers le dossier codes_ORL_evaluation\n",
    "project_root = os.path.abspath(os.path.join(os.getcwd(), \"..\"))\n",
    "\n",
    "# Ajout du chemin au sys.path\n",
    "if project_root not in sys.path:\n",
    "    sys.path.insert(0, project_root)\n",
    "\n",
    "print(\"Projet root ajouté au path:\", project_root)"
   ]
  },
  {
   "cell_type": "code",
   "execution_count": 3,
   "id": "a7f02bbf-040c-4a0e-a525-9cddb6ed779a",
   "metadata": {},
   "outputs": [
    {
     "name": "stdout",
     "output_type": "stream",
     "text": [
      "Requirement already satisfied: cdo in /srv/conda/envs/notebook/lib/python3.12/site-packages (1.6.1)\n",
      "Requirement already satisfied: six in /srv/conda/envs/notebook/lib/python3.12/site-packages (from cdo) (1.17.0)\n",
      "Requirement already satisfied: packaging in /srv/conda/envs/notebook/lib/python3.12/site-packages (from cdo) (24.2)\n",
      "Note: you may need to restart the kernel to use updated packages.\n"
     ]
    }
   ],
   "source": [
    "pip install cdo"
   ]
  },
  {
   "cell_type": "code",
   "execution_count": 4,
   "id": "cc14842f-4bd4-44ff-8fa7-eeacd773fee4",
   "metadata": {},
   "outputs": [
    {
     "name": "stderr",
     "output_type": "stream",
     "text": [
      "/srv/conda/envs/notebook/lib/python3.12/site-packages/esmpy/interface/loadESMF.py:94: VersionWarning: ESMF installation version 8.8.0, ESMPy version 8.8.0b0\n",
      "  warnings.warn(\"ESMF installation version {}, ESMPy version {}\".format(\n"
     ]
    }
   ],
   "source": [
    "from module import *"
   ]
  },
  {
   "cell_type": "code",
   "execution_count": 5,
   "id": "d6fc2cc9-5467-4bf0-b533-f67d62cdff14",
   "metadata": {},
   "outputs": [
    {
     "name": "stdout",
     "output_type": "stream",
     "text": [
      "xarray    : 2025.1.1\n",
      "netCDF4   : 1.7.2\n",
      "pandas    : 2.2.3\n",
      "numpy     : 2.0.2\n",
      "csv       : 1.0\n",
      "cartopy   : 0.24.0\n",
      "watermark : 2.5.0\n",
      "matplotlib: 3.10.0\n",
      "cdo       : 1.6.1\n",
      "skimage   : 0.25.0\n",
      "seaborn   : 0.13.2\n",
      "xesmf     : 0.8.8\n",
      "sys       : 3.12.8 | packaged by conda-forge | (main, Dec  5 2024, 14:24:40) [GCC 13.3.0]\n",
      "\n"
     ]
    }
   ],
   "source": [
    "%watermark --iversions"
   ]
  },
  {
   "cell_type": "markdown",
   "id": "f240cd35-93c6-44be-addb-c6d5d827ad68",
   "metadata": {},
   "source": [
    "## Areacella fichiers historiques"
   ]
  },
  {
   "cell_type": "code",
   "execution_count": 6,
   "id": "c8cfdee8-b614-4e97-82ef-d5db92eb858b",
   "metadata": {},
   "outputs": [
    {
     "name": "stdout",
     "output_type": "stream",
     "text": [
      "🔄 Traitement du modèle BCC-CSM2-MR\n",
      "⚙️ Exécution : cdo gridarea /home/jovyan/M2_Snow_project/notebooks/codes_ORL_evaluation/output_data/snow_hist/BCC-CSM2-MR_hist_reprojete.nc /home/jovyan/M2_Snow_project/notebooks/codes_ORL_evaluation/output_data/areacella_recalcule/BCC-CSM2-MR_gridarea_hist_recalcule.nc\n",
      "cdo    gridarea: Processed 1 variable [0.77s 47MB].\n",
      "🔄 Traitement du modèle CanESM5\n",
      "⚙️ Exécution : cdo gridarea /home/jovyan/M2_Snow_project/notebooks/codes_ORL_evaluation/output_data/snow_hist/CanESM5_hist_reprojete.nc /home/jovyan/M2_Snow_project/notebooks/codes_ORL_evaluation/output_data/areacella_recalcule/CanESM5_gridarea_hist_recalcule.nc\n",
      "cdo    gridarea: Processed 1 variable [0.04s 48MB].\n",
      "🔄 Traitement du modèle CanESM5-CanOE\n",
      "⚙️ Exécution : cdo gridarea /home/jovyan/M2_Snow_project/notebooks/codes_ORL_evaluation/output_data/snow_hist/CanESM5-CanOE_hist_reprojete.nc /home/jovyan/M2_Snow_project/notebooks/codes_ORL_evaluation/output_data/areacella_recalcule/CanESM5-CanOE_gridarea_hist_recalcule.nc\n",
      "cdo    gridarea: Processed 1 variable [0.03s 48MB].\n",
      "🔄 Traitement du modèle CESM2\n",
      "⚙️ Exécution : cdo gridarea /home/jovyan/M2_Snow_project/notebooks/codes_ORL_evaluation/output_data/snow_hist/CESM2_hist_reprojete.nc /home/jovyan/M2_Snow_project/notebooks/codes_ORL_evaluation/output_data/areacella_recalcule/CESM2_gridarea_hist_recalcule.nc\n",
      "cdo    gridarea: Processed 1 variable [0.03s 48MB].\n",
      "🔄 Traitement du modèle CESM2-WACCM\n",
      "⚙️ Exécution : cdo gridarea /home/jovyan/M2_Snow_project/notebooks/codes_ORL_evaluation/output_data/snow_hist/CESM2-WACCM_hist_reprojete.nc /home/jovyan/M2_Snow_project/notebooks/codes_ORL_evaluation/output_data/areacella_recalcule/CESM2-WACCM_gridarea_hist_recalcule.nc\n",
      "cdo    gridarea: Processed 1 variable [0.03s 48MB].\n",
      "🔄 Traitement du modèle CIESM\n",
      "⚙️ Exécution : cdo gridarea /home/jovyan/M2_Snow_project/notebooks/codes_ORL_evaluation/output_data/snow_hist/CIESM_hist_reprojete.nc /home/jovyan/M2_Snow_project/notebooks/codes_ORL_evaluation/output_data/areacella_recalcule/CIESM_gridarea_hist_recalcule.nc\n",
      "cdo    gridarea: Processed 1 variable [0.03s 48MB].\n",
      "🔄 Traitement du modèle CNRM-CM6-1\n",
      "⚙️ Exécution : cdo gridarea /home/jovyan/M2_Snow_project/notebooks/codes_ORL_evaluation/output_data/snow_hist/CNRM-CM6-1_hist_reprojete.nc /home/jovyan/M2_Snow_project/notebooks/codes_ORL_evaluation/output_data/areacella_recalcule/CNRM-CM6-1_gridarea_hist_recalcule.nc\n",
      "cdo    gridarea: Processed 1 variable [0.03s 48MB].\n",
      "🔄 Traitement du modèle CNRM-CM6-1-HR\n",
      "⚙️ Exécution : cdo gridarea /home/jovyan/M2_Snow_project/notebooks/codes_ORL_evaluation/output_data/snow_hist/CNRM-CM6-1-HR_hist_reprojete.nc /home/jovyan/M2_Snow_project/notebooks/codes_ORL_evaluation/output_data/areacella_recalcule/CNRM-CM6-1-HR_gridarea_hist_recalcule.nc\n",
      "cdo    gridarea: Processed 1 variable [0.03s 47MB].\n",
      "🔄 Traitement du modèle CNRM-ESM2-1\n",
      "⚙️ Exécution : cdo gridarea /home/jovyan/M2_Snow_project/notebooks/codes_ORL_evaluation/output_data/snow_hist/CNRM-ESM2-1_hist_reprojete.nc /home/jovyan/M2_Snow_project/notebooks/codes_ORL_evaluation/output_data/areacella_recalcule/CNRM-ESM2-1_gridarea_hist_recalcule.nc\n",
      "cdo    gridarea: Processed 1 variable [0.03s 48MB].\n",
      "🔄 Traitement du modèle EC-Earth3\n",
      "⚙️ Exécution : cdo gridarea /home/jovyan/M2_Snow_project/notebooks/codes_ORL_evaluation/output_data/snow_hist/EC-Earth3_hist_reprojete.nc /home/jovyan/M2_Snow_project/notebooks/codes_ORL_evaluation/output_data/areacella_recalcule/EC-Earth3_gridarea_hist_recalcule.nc\n",
      "cdo    gridarea: Processed 1 variable [0.03s 48MB].\n",
      "🔄 Traitement du modèle EC-Earth3-Veg\n",
      "⚙️ Exécution : cdo gridarea /home/jovyan/M2_Snow_project/notebooks/codes_ORL_evaluation/output_data/snow_hist/EC-Earth3-Veg_hist_reprojete.nc /home/jovyan/M2_Snow_project/notebooks/codes_ORL_evaluation/output_data/areacella_recalcule/EC-Earth3-Veg_gridarea_hist_recalcule.nc\n",
      "cdo    gridarea: Processed 1 variable [0.04s 48MB].\n",
      "🔄 Traitement du modèle FGOALS-f3-L\n",
      "⚙️ Exécution : cdo gridarea /home/jovyan/M2_Snow_project/notebooks/codes_ORL_evaluation/output_data/snow_hist/FGOALS-f3-L_hist_reprojete.nc /home/jovyan/M2_Snow_project/notebooks/codes_ORL_evaluation/output_data/areacella_recalcule/FGOALS-f3-L_gridarea_hist_recalcule.nc\n",
      "cdo    gridarea: Processed 1 variable [0.04s 48MB].\n",
      "🔄 Traitement du modèle FGOALS-g3\n",
      "⚙️ Exécution : cdo gridarea /home/jovyan/M2_Snow_project/notebooks/codes_ORL_evaluation/output_data/snow_hist/FGOALS-g3_hist_reprojete.nc /home/jovyan/M2_Snow_project/notebooks/codes_ORL_evaluation/output_data/areacella_recalcule/FGOALS-g3_gridarea_hist_recalcule.nc\n",
      "cdo    gridarea: Processed 1 variable [0.03s 48MB].\n",
      "🔄 Traitement du modèle GFDL-CM4\n",
      "⚙️ Exécution : cdo gridarea /home/jovyan/M2_Snow_project/notebooks/codes_ORL_evaluation/output_data/snow_hist/GFDL-CM4_hist_reprojete.nc /home/jovyan/M2_Snow_project/notebooks/codes_ORL_evaluation/output_data/areacella_recalcule/GFDL-CM4_gridarea_hist_recalcule.nc\n",
      "cdo    gridarea: Processed 1 variable [0.03s 48MB].\n",
      "🔄 Traitement du modèle GISS-E2-1-G\n",
      "⚙️ Exécution : cdo gridarea /home/jovyan/M2_Snow_project/notebooks/codes_ORL_evaluation/output_data/snow_hist/GISS-E2-1-G_hist_reprojete.nc /home/jovyan/M2_Snow_project/notebooks/codes_ORL_evaluation/output_data/areacella_recalcule/GISS-E2-1-G_gridarea_hist_recalcule.nc\n",
      "cdo    gridarea: Processed 1 variable [0.03s 48MB].\n",
      "🔄 Traitement du modèle HadGEM3-GC31-LL\n",
      "⚙️ Exécution : cdo gridarea /home/jovyan/M2_Snow_project/notebooks/codes_ORL_evaluation/output_data/snow_hist/HadGEM3-GC31-LL_hist_reprojete.nc /home/jovyan/M2_Snow_project/notebooks/codes_ORL_evaluation/output_data/areacella_recalcule/HadGEM3-GC31-LL_gridarea_hist_recalcule.nc\n",
      "cdo    gridarea: Processed 1 variable [0.03s 48MB].\n",
      "🔄 Traitement du modèle IPSL-CM6A-LR\n",
      "⚙️ Exécution : cdo gridarea /home/jovyan/M2_Snow_project/notebooks/codes_ORL_evaluation/output_data/snow_hist/IPSL-CM6A-LR_hist_reprojete.nc /home/jovyan/M2_Snow_project/notebooks/codes_ORL_evaluation/output_data/areacella_recalcule/IPSL-CM6A-LR_gridarea_hist_recalcule.nc\n",
      "cdo    gridarea: Processed 1 variable [0.04s 48MB].\n",
      "🔄 Traitement du modèle MIROC-ES2L\n",
      "⚙️ Exécution : cdo gridarea /home/jovyan/M2_Snow_project/notebooks/codes_ORL_evaluation/output_data/snow_hist/MIROC-ES2L_hist_reprojete.nc /home/jovyan/M2_Snow_project/notebooks/codes_ORL_evaluation/output_data/areacella_recalcule/MIROC-ES2L_gridarea_hist_recalcule.nc\n",
      "cdo    gridarea: Processed 1 variable [0.03s 48MB].\n",
      "🔄 Traitement du modèle MIROC6\n",
      "⚙️ Exécution : cdo gridarea /home/jovyan/M2_Snow_project/notebooks/codes_ORL_evaluation/output_data/snow_hist/MIROC6_hist_reprojete.nc /home/jovyan/M2_Snow_project/notebooks/codes_ORL_evaluation/output_data/areacella_recalcule/MIROC6_gridarea_hist_recalcule.nc\n",
      "cdo    gridarea: Processed 1 variable [0.03s 48MB].\n",
      "🔄 Traitement du modèle MPI-ESM1-2-HR\n",
      "⚙️ Exécution : cdo gridarea /home/jovyan/M2_Snow_project/notebooks/codes_ORL_evaluation/output_data/snow_hist/MPI-ESM1-2-HR_hist_reprojete.nc /home/jovyan/M2_Snow_project/notebooks/codes_ORL_evaluation/output_data/areacella_recalcule/MPI-ESM1-2-HR_gridarea_hist_recalcule.nc\n",
      "cdo    gridarea: Processed 1 variable [0.04s 48MB].\n",
      "🔄 Traitement du modèle MPI-ESM1-2-LR\n",
      "⚙️ Exécution : cdo gridarea /home/jovyan/M2_Snow_project/notebooks/codes_ORL_evaluation/output_data/snow_hist/MPI-ESM1-2-LR_hist_reprojete.nc /home/jovyan/M2_Snow_project/notebooks/codes_ORL_evaluation/output_data/areacella_recalcule/MPI-ESM1-2-LR_gridarea_hist_recalcule.nc\n",
      "cdo    gridarea: Processed 1 variable [0.03s 48MB].\n",
      "🔄 Traitement du modèle MRI-ESM2-0\n",
      "⚙️ Exécution : cdo gridarea /home/jovyan/M2_Snow_project/notebooks/codes_ORL_evaluation/output_data/snow_hist/MRI-ESM2-0_hist_reprojete.nc /home/jovyan/M2_Snow_project/notebooks/codes_ORL_evaluation/output_data/areacella_recalcule/MRI-ESM2-0_gridarea_hist_recalcule.nc\n",
      "cdo    gridarea: Processed 1 variable [0.03s 48MB].\n",
      "🔄 Traitement du modèle NorESM2-LM\n",
      "⚙️ Exécution : cdo gridarea /home/jovyan/M2_Snow_project/notebooks/codes_ORL_evaluation/output_data/snow_hist/NorESM2-LM_hist_reprojete.nc /home/jovyan/M2_Snow_project/notebooks/codes_ORL_evaluation/output_data/areacella_recalcule/NorESM2-LM_gridarea_hist_recalcule.nc\n",
      "cdo    gridarea: Processed 1 variable [0.04s 48MB].\n",
      "🔄 Traitement du modèle NorESM2-MM\n",
      "⚙️ Exécution : cdo gridarea /home/jovyan/M2_Snow_project/notebooks/codes_ORL_evaluation/output_data/snow_hist/NorESM2-MM_hist_reprojete.nc /home/jovyan/M2_Snow_project/notebooks/codes_ORL_evaluation/output_data/areacella_recalcule/NorESM2-MM_gridarea_hist_recalcule.nc\n",
      "cdo    gridarea: Processed 1 variable [0.04s 48MB].\n",
      "🔄 Traitement du modèle UKESM1-0-LL\n",
      "⚙️ Exécution : cdo gridarea /home/jovyan/M2_Snow_project/notebooks/codes_ORL_evaluation/output_data/snow_hist/UKESM1-0-LL_hist_reprojete.nc /home/jovyan/M2_Snow_project/notebooks/codes_ORL_evaluation/output_data/areacella_recalcule/UKESM1-0-LL_gridarea_hist_recalcule.nc\n",
      "cdo    gridarea: Processed 1 variable [0.04s 48MB].\n"
     ]
    }
   ],
   "source": [
    "models = [\n",
    "    \"BCC-CSM2-MR\", \"CanESM5\", \"CanESM5-CanOE\", \"CESM2\", \"CESM2-WACCM\", \"CIESM\",\n",
    "    \"CNRM-CM6-1\", \"CNRM-CM6-1-HR\", \"CNRM-ESM2-1\", \"EC-Earth3\", \"EC-Earth3-Veg\",\n",
    "    \"FGOALS-f3-L\", \"FGOALS-g3\", \"GFDL-CM4\", \"GISS-E2-1-G\", \"HadGEM3-GC31-LL\",\n",
    "    \"IPSL-CM6A-LR\", \"MIROC-ES2L\", \"MIROC6\", \"MPI-ESM1-2-HR\", \"MPI-ESM1-2-LR\",\n",
    "    \"MRI-ESM2-0\", \"NorESM2-LM\", \"NorESM2-MM\", \"UKESM1-0-LL\"\n",
    "]\n",
    "\n",
    "recalculer_areacella(\n",
    "    models,\n",
    "    input_path=\"~/M2_Snow_project/notebooks/codes_ORL_evaluation/output_data/snow_hist/\",\n",
    "    output_path=\"/home/jovyan/M2_Snow_project/notebooks/codes_ORL_evaluation/output_data/areacella_recalcule\"\n",
    ")"
   ]
  },
  {
   "cell_type": "markdown",
   "id": "b50b4d3c-bb67-46b3-98d2-1d9bd9510a94",
   "metadata": {},
   "source": [
    "## Conclusion\n",
    "\n",
    "Ce notebook recalcule chaque fichier areacella pour tous les fichiers historiques interpolés de la neige, afin de permettre des calculs entre ces deux variables plus tard dans l'analyse. Ces fichiers sont stockés dans un nouveau dossier."
   ]
  }
 ],
 "metadata": {
  "kernelspec": {
   "display_name": "Python 3 (ipykernel)",
   "language": "python",
   "name": "python3"
  },
  "language_info": {
   "codemirror_mode": {
    "name": "ipython",
    "version": 3
   },
   "file_extension": ".py",
   "mimetype": "text/x-python",
   "name": "python",
   "nbconvert_exporter": "python",
   "pygments_lexer": "ipython3",
   "version": "3.12.8"
  }
 },
 "nbformat": 4,
 "nbformat_minor": 5
}
