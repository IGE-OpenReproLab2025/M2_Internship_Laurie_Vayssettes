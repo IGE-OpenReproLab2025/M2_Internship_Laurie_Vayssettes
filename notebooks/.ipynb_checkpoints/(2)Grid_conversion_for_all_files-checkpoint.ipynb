{
 "cells": [
  {
   "cell_type": "markdown",
   "id": "f4daab47-c3ae-4519-b28d-fe0081f447b6",
   "metadata": {},
   "source": [
    "# Grid conversion for all files used by nearest s2d interpolation method"
   ]
  },
  {
   "cell_type": "markdown",
   "id": "48a5a8b6-e37a-414e-ac3e-a1cf7e8f6038",
   "metadata": {},
   "source": [
    "## Objective\n",
    "\n",
    "The main objective of this notebook is to convert all files to a common grid so that comparisons can be made later. The useful files to convert are those with the snow variable for the historical period and those obtained from the output of the first notebook used, as well as all land surface and land ice mask files. The main tool used is the nearest s2d interpolation."
   ]
  },
  {
   "cell_type": "code",
   "execution_count": 1,
   "id": "f4886055-c2ba-43fa-a7a4-573016e54bf2",
   "metadata": {},
   "outputs": [
    {
     "name": "stdout",
     "output_type": "stream",
     "text": [
      "Last updated: 2025-07-08T12:30:01.919282+00:00\n",
      "\n",
      "Python implementation: CPython\n",
      "Python version       : 3.12.8\n",
      "IPython version      : 8.17.2\n",
      "\n",
      "Compiler    : GCC 13.3.0\n",
      "OS          : Linux\n",
      "Release     : 6.8.0-58-generic\n",
      "Machine     : x86_64\n",
      "Processor   : x86_64\n",
      "CPU cores   : 8\n",
      "Architecture: 64bit\n",
      "\n"
     ]
    }
   ],
   "source": [
    "from watermark import watermark\n",
    "%load_ext watermark\n",
    "print(watermark())"
   ]
  },
  {
   "cell_type": "code",
   "execution_count": 3,
   "id": "0c9a678b-26ff-468a-bb06-244c9b7a92f0",
   "metadata": {},
   "outputs": [
    {
     "name": "stdout",
     "output_type": "stream",
     "text": [
      "Projet root ajouté au path: /home/jovyan/M2_Internship_Laurie_Vayssettes\n"
     ]
    }
   ],
   "source": [
    "import sys\n",
    "import os\n",
    "\n",
    "# Chemin absolu vers le dossier codes_ORL_evaluation\n",
    "project_root = os.path.abspath(os.path.join(os.getcwd(), \"..\"))\n",
    "\n",
    "# Ajout du chemin au sys.path\n",
    "if project_root not in sys.path:\n",
    "    sys.path.insert(0, project_root)\n",
    "\n",
    "print(\"Projet root ajouté au path:\", project_root)"
   ]
  },
  {
   "cell_type": "code",
   "execution_count": 12,
   "id": "ac280266-af16-4c1e-be25-88ff6f1448db",
   "metadata": {},
   "outputs": [
    {
     "name": "stdout",
     "output_type": "stream",
     "text": [
      "Requirement already satisfied: cdo in /srv/conda/envs/notebook/lib/python3.12/site-packages (1.6.1)\n",
      "Requirement already satisfied: six in /srv/conda/envs/notebook/lib/python3.12/site-packages (from cdo) (1.17.0)\n",
      "Requirement already satisfied: packaging in /srv/conda/envs/notebook/lib/python3.12/site-packages (from cdo) (24.2)\n",
      "Note: you may need to restart the kernel to use updated packages.\n"
     ]
    }
   ],
   "source": [
    "pip install cdo"
   ]
  },
  {
   "cell_type": "code",
   "execution_count": 4,
   "id": "c49d40c2-95f1-4b42-a8fe-92a1298a87a6",
   "metadata": {},
   "outputs": [
    {
     "name": "stderr",
     "output_type": "stream",
     "text": [
      "/srv/conda/envs/notebook/lib/python3.12/site-packages/esmpy/interface/loadESMF.py:94: VersionWarning: ESMF installation version 8.8.0, ESMPy version 8.8.0b0\n",
      "  warnings.warn(\"ESMF installation version {}, ESMPy version {}\".format(\n"
     ]
    }
   ],
   "source": [
    "from module import *"
   ]
  },
  {
   "cell_type": "code",
   "execution_count": 5,
   "id": "72e36e35-9912-4b46-aa79-7fdf854cdfee",
   "metadata": {},
   "outputs": [
    {
     "name": "stdout",
     "output_type": "stream",
     "text": [
      "pandas    : 2.2.3\n",
      "matplotlib: 3.10.0\n",
      "cdo       : 1.6.1\n",
      "cartopy   : 0.24.0\n",
      "csv       : 1.0\n",
      "seaborn   : 0.13.2\n",
      "sys       : 3.12.8 | packaged by conda-forge | (main, Dec  5 2024, 14:24:40) [GCC 13.3.0]\n",
      "skimage   : 0.25.0\n",
      "watermark : 2.5.0\n",
      "xarray    : 2025.1.1\n",
      "numpy     : 2.0.2\n",
      "netCDF4   : 1.7.2\n",
      "xesmf     : 0.8.8\n",
      "\n"
     ]
    }
   ],
   "source": [
    "%watermark --iversions"
   ]
  },
  {
   "cell_type": "markdown",
   "id": "bc9618de-9816-4f94-bacb-cd68876d0c59",
   "metadata": {},
   "source": [
    "## Reference grid\n",
    "\n",
    "The reference grid is defined as that of the snow observation file, being real data."
   ]
  },
  {
   "cell_type": "code",
   "execution_count": 6,
   "id": "72c19f02-90d9-42ab-a17a-6ef3bf1958d2",
   "metadata": {},
   "outputs": [],
   "source": [
    "# path and file of the reference grid\n",
    "path = \"/home/jovyan/shared-storage/Data_LaurieV/input_data/grid/\"\n",
    "file = \"nhsce_mon.v01r01_19661004_20250303_1.0x1.0.nc\"\n",
    "ref_grid = xr.open_dataset(os.path.join(path, file))"
   ]
  },
  {
   "cell_type": "code",
   "execution_count": 7,
   "id": "9cd3c87f-5d77-4735-a78b-577fdfe94e31",
   "metadata": {},
   "outputs": [],
   "source": [
    "# we focus on the period 1995-2014 because it is our reference period (IPCC)\n",
    "ref_grid = ref_grid.sel(time=slice(\"1995\", \"2014\"))"
   ]
  },
  {
   "cell_type": "markdown",
   "id": "4fb94c0a-3463-462f-ad62-c62ebf5862b1",
   "metadata": {},
   "source": [
    "## Regridding"
   ]
  },
  {
   "cell_type": "markdown",
   "id": "d8224c41-bb56-4072-a7f1-8ad3a6e37927",
   "metadata": {},
   "source": [
    "This procedure is repeated for all files. One cell describes the steps precisely; the other cells follow the same steps, with only the input files being modified."
   ]
  },
  {
   "cell_type": "markdown",
   "id": "6049f61f-0bce-4539-ac5e-5fa8583029a8",
   "metadata": {},
   "source": [
    "### Snow cover fraction (historical files)"
   ]
  },
  {
   "cell_type": "code",
   "execution_count": 8,
   "id": "9a1fc333-dd02-4005-bcfe-9deb408922dc",
   "metadata": {},
   "outputs": [
    {
     "name": "stdout",
     "output_type": "stream",
     "text": [
      "Traitement du modèle BCC-CSM2-MR : /home/jovyan/shared-storage/Data_LaurieV/input_data/historical-LImon-snc/snc_LImon_BCC-CSM2-MR_historical_r1i1p1f1_gn_185001-201412.nc\n",
      "Fichier sauvegardé : /home/jovyan/shared-storage/Data_LaurieV/output_data/snow_hist/BCC-CSM2-MR_hist_reprojete.nc\n",
      "Traitement du modèle CanESM5 : /home/jovyan/shared-storage/Data_LaurieV/input_data/historical-LImon-snc/snc_LImon_CanESM5_historical_r1i1p1f1_gn_185001-201412.nc\n",
      "Fichier sauvegardé : /home/jovyan/shared-storage/Data_LaurieV/output_data/snow_hist/CanESM5_hist_reprojete.nc\n",
      "Traitement du modèle CanESM5-CanOE : /home/jovyan/shared-storage/Data_LaurieV/input_data/historical-LImon-snc/snc_LImon_CanESM5-CanOE_historical_r1i1p2f1_gn_185001-201412.nc\n",
      "Fichier sauvegardé : /home/jovyan/shared-storage/Data_LaurieV/output_data/snow_hist/CanESM5-CanOE_hist_reprojete.nc\n",
      "Traitement du modèle CESM2 : /home/jovyan/shared-storage/Data_LaurieV/input_data/historical-LImon-snc/snc_LImon_CESM2_historical_r1i1p1f1_gn_185001-201412.nc\n"
     ]
    },
    {
     "name": "stderr",
     "output_type": "stream",
     "text": [
      "/srv/conda/envs/notebook/lib/python3.12/site-packages/xarray/conventions.py:193: SerializationWarning: variable 'snc' has multiple fill values {np.float32(1e+20), np.float64(1e+20)} defined, decoding all values to NaN.\n",
      "  var = coder.decode(var, name=name)\n"
     ]
    },
    {
     "name": "stdout",
     "output_type": "stream",
     "text": [
      "Fichier sauvegardé : /home/jovyan/shared-storage/Data_LaurieV/output_data/snow_hist/CESM2_hist_reprojete.nc\n",
      "Traitement du modèle CESM2-WACCM : /home/jovyan/shared-storage/Data_LaurieV/input_data/historical-LImon-snc/snc_LImon_CESM2-WACCM_historical_r1i1p1f1_gn_185001-201412.nc\n"
     ]
    },
    {
     "name": "stderr",
     "output_type": "stream",
     "text": [
      "/srv/conda/envs/notebook/lib/python3.12/site-packages/xarray/conventions.py:193: SerializationWarning: variable 'snc' has multiple fill values {np.float32(1e+20), np.float64(1e+20)} defined, decoding all values to NaN.\n",
      "  var = coder.decode(var, name=name)\n"
     ]
    },
    {
     "name": "stdout",
     "output_type": "stream",
     "text": [
      "Fichier sauvegardé : /home/jovyan/shared-storage/Data_LaurieV/output_data/snow_hist/CESM2-WACCM_hist_reprojete.nc\n",
      "Traitement du modèle CIESM : /home/jovyan/shared-storage/Data_LaurieV/input_data/historical-LImon-snc/snc_LImon_CIESM_historical_r1i1p1f1_gr_185001-201412.nc\n",
      "Fichier sauvegardé : /home/jovyan/shared-storage/Data_LaurieV/output_data/snow_hist/CIESM_hist_reprojete.nc\n",
      "Traitement du modèle CNRM-CM6-1 : /home/jovyan/shared-storage/Data_LaurieV/input_data/historical-LImon-snc/snc_LImon_CNRM-CM6-1_historical_r1i1p1f2_gr_185001-201412.nc\n",
      "Fichier sauvegardé : /home/jovyan/shared-storage/Data_LaurieV/output_data/snow_hist/CNRM-CM6-1_hist_reprojete.nc\n",
      "Traitement du modèle CNRM-CM6-1-HR : /home/jovyan/shared-storage/Data_LaurieV/input_data/historical-LImon-snc/snc_LImon_CNRM-CM6-1-HR_historical_r1i1p1f2_gr_185001-201412.nc\n",
      "Fichier sauvegardé : /home/jovyan/shared-storage/Data_LaurieV/output_data/snow_hist/CNRM-CM6-1-HR_hist_reprojete.nc\n",
      "Traitement du modèle CNRM-ESM2-1 : /home/jovyan/shared-storage/Data_LaurieV/input_data/historical-LImon-snc/snc_LImon_CNRM-ESM2-1_historical_r1i1p1f2_gr_185001-201412.nc\n",
      "Fichier sauvegardé : /home/jovyan/shared-storage/Data_LaurieV/output_data/snow_hist/CNRM-ESM2-1_hist_reprojete.nc\n",
      "Traitement du modèle EC-Earth3 : /home/jovyan/shared-storage/Data_LaurieV/input_data/historical-LImon-snc/snc_LImon_EC-Earth3_historical_r1i1p1f1_gr_185001-201412.nc\n",
      "Fichier sauvegardé : /home/jovyan/shared-storage/Data_LaurieV/output_data/snow_hist/EC-Earth3_hist_reprojete.nc\n",
      "Traitement du modèle EC-Earth3-Veg : /home/jovyan/shared-storage/Data_LaurieV/input_data/historical-LImon-snc/snc_LImon_EC-Earth3-Veg_historical_r1i1p1f1_gr_185001-201412.nc\n",
      "Fichier sauvegardé : /home/jovyan/shared-storage/Data_LaurieV/output_data/snow_hist/EC-Earth3-Veg_hist_reprojete.nc\n",
      "Traitement du modèle FGOALS-f3-L : /home/jovyan/shared-storage/Data_LaurieV/input_data/historical-LImon-snc/snc_LImon_FGOALS-f3-L_historical_r1i1p1f1_gn_185001-201412.nc\n",
      "Fichier sauvegardé : /home/jovyan/shared-storage/Data_LaurieV/output_data/snow_hist/FGOALS-f3-L_hist_reprojete.nc\n",
      "Traitement du modèle FGOALS-g3 : /home/jovyan/shared-storage/Data_LaurieV/input_data/historical-LImon-snc/snc_LImon_FGOALS-g3_historical_r5i1p1f1_gn_185001-201612.nc\n",
      "Fichier sauvegardé : /home/jovyan/shared-storage/Data_LaurieV/output_data/snow_hist/FGOALS-g3_hist_reprojete.nc\n",
      "Traitement du modèle GFDL-CM4 : /home/jovyan/shared-storage/Data_LaurieV/input_data/historical-LImon-snc/snc_LImon_GFDL-CM4_historical_r1i1p1f1_gr1_185001-201412.nc\n",
      "Fichier sauvegardé : /home/jovyan/shared-storage/Data_LaurieV/output_data/snow_hist/GFDL-CM4_hist_reprojete.nc\n",
      "Traitement du modèle GISS-E2-1-G : /home/jovyan/shared-storage/Data_LaurieV/input_data/historical-LImon-snc/snc_LImon_GISS-E2-1-G_historical_r1i1p1f1_gn_185001-201412.nc\n",
      "Fichier sauvegardé : /home/jovyan/shared-storage/Data_LaurieV/output_data/snow_hist/GISS-E2-1-G_hist_reprojete.nc\n",
      "Traitement du modèle HadGEM3-GC31-LL : /home/jovyan/shared-storage/Data_LaurieV/input_data/historical-LImon-snc/snc_LImon_HadGEM3-GC31-LL_historical_r1i1p1f3_gn_185001-201412.nc\n",
      "Fichier sauvegardé : /home/jovyan/shared-storage/Data_LaurieV/output_data/snow_hist/HadGEM3-GC31-LL_hist_reprojete.nc\n",
      "Traitement du modèle IPSL-CM6A-LR : /home/jovyan/shared-storage/Data_LaurieV/input_data/historical-LImon-snc/snc_LImon_IPSL-CM6A-LR_historical_r1i1p1f1_gr_185001-201412.nc\n",
      "Fichier sauvegardé : /home/jovyan/shared-storage/Data_LaurieV/output_data/snow_hist/IPSL-CM6A-LR_hist_reprojete.nc\n",
      "Traitement du modèle MIROC-ES2L : /home/jovyan/shared-storage/Data_LaurieV/input_data/historical-LImon-snc/snc_LImon_MIROC-ES2L_historical_r1i1p1f2_gn_185001-201412.nc\n",
      "Fichier sauvegardé : /home/jovyan/shared-storage/Data_LaurieV/output_data/snow_hist/MIROC-ES2L_hist_reprojete.nc\n",
      "Traitement du modèle MIROC6 : /home/jovyan/shared-storage/Data_LaurieV/input_data/historical-LImon-snc/snc_LImon_MIROC6_historical_r1i1p1f1_gn_185001-201412.nc\n",
      "Fichier sauvegardé : /home/jovyan/shared-storage/Data_LaurieV/output_data/snow_hist/MIROC6_hist_reprojete.nc\n",
      "Traitement du modèle MPI-ESM1-2-HR : /home/jovyan/shared-storage/Data_LaurieV/input_data/historical-LImon-snc/snc_LImon_MPI-ESM1-2-HR_historical_r1i1p1f1_gn_185001-201412.nc\n",
      "Fichier sauvegardé : /home/jovyan/shared-storage/Data_LaurieV/output_data/snow_hist/MPI-ESM1-2-HR_hist_reprojete.nc\n",
      "Traitement du modèle MPI-ESM1-2-LR : /home/jovyan/shared-storage/Data_LaurieV/input_data/historical-LImon-snc/snc_LImon_MPI-ESM1-2-LR_historical_r10i1p1f1_gn_185001-201412.nc\n",
      "Fichier sauvegardé : /home/jovyan/shared-storage/Data_LaurieV/output_data/snow_hist/MPI-ESM1-2-LR_hist_reprojete.nc\n",
      "Traitement du modèle MRI-ESM2-0 : /home/jovyan/shared-storage/Data_LaurieV/input_data/historical-LImon-snc/snc_LImon_MRI-ESM2-0_historical_r1i1p1f1_gn_185001-201412.nc\n",
      "Fichier sauvegardé : /home/jovyan/shared-storage/Data_LaurieV/output_data/snow_hist/MRI-ESM2-0_hist_reprojete.nc\n",
      "Traitement du modèle NorESM2-LM : /home/jovyan/shared-storage/Data_LaurieV/input_data/historical-LImon-snc/snc_LImon_NorESM2-LM_historical_r2i1p1f1_gn_195001-201412.nc\n",
      "Fichier sauvegardé : /home/jovyan/shared-storage/Data_LaurieV/output_data/snow_hist/NorESM2-LM_hist_reprojete.nc\n",
      "Traitement du modèle NorESM2-MM : /home/jovyan/shared-storage/Data_LaurieV/input_data/historical-LImon-snc/snc_LImon_NorESM2-MM_historical_r1i1p1f1_gn_185001-201412.nc\n",
      "Fichier sauvegardé : /home/jovyan/shared-storage/Data_LaurieV/output_data/snow_hist/NorESM2-MM_hist_reprojete.nc\n",
      "Traitement du modèle UKESM1-0-LL : /home/jovyan/shared-storage/Data_LaurieV/input_data/historical-LImon-snc/snc_LImon_UKESM1-0-LL_historical_r1i1p1f2_gn_185001-201412.nc\n",
      "Fichier sauvegardé : /home/jovyan/shared-storage/Data_LaurieV/output_data/snow_hist/UKESM1-0-LL_hist_reprojete.nc\n"
     ]
    }
   ],
   "source": [
    "models = [\n",
    "    \"BCC-CSM2-MR\", \"CanESM5\", \"CanESM5-CanOE\", \"CESM2\", \"CESM2-WACCM\", \"CIESM\",\n",
    "    \"CNRM-CM6-1\", \"CNRM-CM6-1-HR\", \"CNRM-ESM2-1\", \"EC-Earth3\", \"EC-Earth3-Veg\",\n",
    "    \"FGOALS-f3-L\", \"FGOALS-g3\", \"GFDL-CM4\", \"GISS-E2-1-G\", \"HadGEM3-GC31-LL\",\n",
    "    \"IPSL-CM6A-LR\", \"MIROC-ES2L\", \"MIROC6\", \"MPI-ESM1-2-HR\", \"MPI-ESM1-2-LR\",\n",
    "    \"MRI-ESM2-0\", \"NorESM2-LM\", \"NorESM2-MM\", \"UKESM1-0-LL\"\n",
    "]\n",
    "\n",
    "regrid_model_files(\n",
    "    models=models,\n",
    "    ref_grid=ref_grid,\n",
    "    output_dir=\"/home/jovyan/shared-storage/Data_LaurieV/output_data2/snow_hist\",\n",
    "    filename_template=\"snc_LImon_{model}_historical_*.nc\",\n",
    "    input_dirs=[\n",
    "        \"/home/jovyan/shared-storage/Data_LaurieV/input_data/historical-LImon-snc/\"\n",
    "    ],\n",
    "    output_name_template=\"{model}_hist_reprojete.nc\"\n",
    ")"
   ]
  },
  {
   "cell_type": "markdown",
   "id": "1d38c3de-0db7-40b2-9e52-2b9238ba2c71",
   "metadata": {},
   "source": [
    "### Snow cover fraction (SnowWarming files, reference period : 1995-2014)"
   ]
  },
  {
   "cell_type": "code",
   "execution_count": 9,
   "id": "ab339611-3ff8-4b59-8082-7b1f876c9e90",
   "metadata": {},
   "outputs": [
    {
     "name": "stdout",
     "output_type": "stream",
     "text": [
      "Traitement du modèle BCC-CSM2-MR : /home/jovyan/shared-storage/Data_LaurieV/output_data/SnowWarming_1995_2014/SnowWarming_BCC-CSM2-MR_historical+ssp585.nc\n",
      "Fichier sauvegardé : /home/jovyan/shared-storage/Data_LaurieV/output_data/snow_SW_1995-2014/BCC-CSM2-MR_SW_reprojete.nc\n",
      "Traitement du modèle CanESM5 : /home/jovyan/shared-storage/Data_LaurieV/output_data/SnowWarming_1995_2014/SnowWarming_CanESM5_historical+ssp585.nc\n",
      "Fichier sauvegardé : /home/jovyan/shared-storage/Data_LaurieV/output_data/snow_SW_1995-2014/CanESM5_SW_reprojete.nc\n",
      "Traitement du modèle CanESM5-CanOE : /home/jovyan/shared-storage/Data_LaurieV/output_data/SnowWarming_1995_2014/SnowWarming_CanESM5-CanOE_historical+ssp585.nc\n",
      "Fichier sauvegardé : /home/jovyan/shared-storage/Data_LaurieV/output_data/snow_SW_1995-2014/CanESM5-CanOE_SW_reprojete.nc\n",
      "Traitement du modèle CESM2 : /home/jovyan/shared-storage/Data_LaurieV/output_data/SnowWarming_1995_2014/SnowWarming_CESM2_historical+ssp585.nc\n",
      "Fichier sauvegardé : /home/jovyan/shared-storage/Data_LaurieV/output_data/snow_SW_1995-2014/CESM2_SW_reprojete.nc\n",
      "Traitement du modèle CESM2-WACCM : /home/jovyan/shared-storage/Data_LaurieV/output_data/SnowWarming_1995_2014/SnowWarming_CESM2-WACCM_historical+ssp585.nc\n",
      "Fichier sauvegardé : /home/jovyan/shared-storage/Data_LaurieV/output_data/snow_SW_1995-2014/CESM2-WACCM_SW_reprojete.nc\n",
      "Traitement du modèle CIESM : /home/jovyan/shared-storage/Data_LaurieV/output_data/SnowWarming_1995_2014/SnowWarming_CIESM_historical+ssp585.nc\n",
      "Fichier sauvegardé : /home/jovyan/shared-storage/Data_LaurieV/output_data/snow_SW_1995-2014/CIESM_SW_reprojete.nc\n",
      "Traitement du modèle CNRM-CM6-1 : /home/jovyan/shared-storage/Data_LaurieV/output_data/SnowWarming_1995_2014/SnowWarming_CNRM-CM6-1_historical+ssp585.nc\n",
      "Fichier sauvegardé : /home/jovyan/shared-storage/Data_LaurieV/output_data/snow_SW_1995-2014/CNRM-CM6-1_SW_reprojete.nc\n",
      "Traitement du modèle CNRM-CM6-1-HR : /home/jovyan/shared-storage/Data_LaurieV/output_data/SnowWarming_1995_2014/SnowWarming_CNRM-CM6-1-HR_historical+ssp585.nc\n",
      "Fichier sauvegardé : /home/jovyan/shared-storage/Data_LaurieV/output_data/snow_SW_1995-2014/CNRM-CM6-1-HR_SW_reprojete.nc\n",
      "Traitement du modèle CNRM-ESM2-1 : /home/jovyan/shared-storage/Data_LaurieV/output_data/SnowWarming_1995_2014/SnowWarming_CNRM-ESM2-1_historical+ssp585.nc\n",
      "Fichier sauvegardé : /home/jovyan/shared-storage/Data_LaurieV/output_data/snow_SW_1995-2014/CNRM-ESM2-1_SW_reprojete.nc\n",
      "Traitement du modèle EC-Earth3 : /home/jovyan/shared-storage/Data_LaurieV/output_data/SnowWarming_1995_2014/SnowWarming_EC-Earth3_historical+ssp585.nc\n",
      "Fichier sauvegardé : /home/jovyan/shared-storage/Data_LaurieV/output_data/snow_SW_1995-2014/EC-Earth3_SW_reprojete.nc\n",
      "Traitement du modèle EC-Earth3-Veg : /home/jovyan/shared-storage/Data_LaurieV/output_data/SnowWarming_1995_2014/SnowWarming_EC-Earth3-Veg_historical+ssp585.nc\n",
      "Fichier sauvegardé : /home/jovyan/shared-storage/Data_LaurieV/output_data/snow_SW_1995-2014/EC-Earth3-Veg_SW_reprojete.nc\n",
      "Traitement du modèle FGOALS-f3-L : /home/jovyan/shared-storage/Data_LaurieV/output_data/SnowWarming_1995_2014/SnowWarming_FGOALS-f3-L_historical+ssp585.nc\n",
      "Fichier sauvegardé : /home/jovyan/shared-storage/Data_LaurieV/output_data/snow_SW_1995-2014/FGOALS-f3-L_SW_reprojete.nc\n",
      "Traitement du modèle FGOALS-g3 : /home/jovyan/shared-storage/Data_LaurieV/output_data/SnowWarming_1995_2014/SnowWarming_FGOALS-g3_historical+ssp585.nc\n",
      "Fichier sauvegardé : /home/jovyan/shared-storage/Data_LaurieV/output_data/snow_SW_1995-2014/FGOALS-g3_SW_reprojete.nc\n",
      "Traitement du modèle GFDL-CM4 : /home/jovyan/shared-storage/Data_LaurieV/output_data/SnowWarming_1995_2014/SnowWarming_GFDL-CM4_historical+ssp585.nc\n",
      "Fichier sauvegardé : /home/jovyan/shared-storage/Data_LaurieV/output_data/snow_SW_1995-2014/GFDL-CM4_SW_reprojete.nc\n",
      "Traitement du modèle GISS-E2-1-G : /home/jovyan/shared-storage/Data_LaurieV/output_data/SnowWarming_1995_2014/SnowWarming_GISS-E2-1-G_historical+ssp585.nc\n",
      "Fichier sauvegardé : /home/jovyan/shared-storage/Data_LaurieV/output_data/snow_SW_1995-2014/GISS-E2-1-G_SW_reprojete.nc\n",
      "Traitement du modèle HadGEM3-GC31-LL : /home/jovyan/shared-storage/Data_LaurieV/output_data/SnowWarming_1995_2014/SnowWarming_HadGEM3-GC31-LL_historical+ssp585.nc\n",
      "Fichier sauvegardé : /home/jovyan/shared-storage/Data_LaurieV/output_data/snow_SW_1995-2014/HadGEM3-GC31-LL_SW_reprojete.nc\n",
      "Traitement du modèle IPSL-CM6A-LR : /home/jovyan/shared-storage/Data_LaurieV/output_data/SnowWarming_1995_2014/SnowWarming_IPSL-CM6A-LR_historical+ssp585.nc\n",
      "Fichier sauvegardé : /home/jovyan/shared-storage/Data_LaurieV/output_data/snow_SW_1995-2014/IPSL-CM6A-LR_SW_reprojete.nc\n",
      "Traitement du modèle MIROC-ES2L : /home/jovyan/shared-storage/Data_LaurieV/output_data/SnowWarming_1995_2014/SnowWarming_MIROC-ES2L_historical+ssp585.nc\n",
      "Fichier sauvegardé : /home/jovyan/shared-storage/Data_LaurieV/output_data/snow_SW_1995-2014/MIROC-ES2L_SW_reprojete.nc\n",
      "Traitement du modèle MIROC6 : /home/jovyan/shared-storage/Data_LaurieV/output_data/SnowWarming_1995_2014/SnowWarming_MIROC6_historical+ssp585.nc\n",
      "Fichier sauvegardé : /home/jovyan/shared-storage/Data_LaurieV/output_data/snow_SW_1995-2014/MIROC6_SW_reprojete.nc\n",
      "Traitement du modèle MPI-ESM1-2-HR : /home/jovyan/shared-storage/Data_LaurieV/output_data/SnowWarming_1995_2014/SnowWarming_MPI-ESM1-2-HR_historical+ssp585.nc\n",
      "Fichier sauvegardé : /home/jovyan/shared-storage/Data_LaurieV/output_data/snow_SW_1995-2014/MPI-ESM1-2-HR_SW_reprojete.nc\n",
      "Traitement du modèle MPI-ESM1-2-LR : /home/jovyan/shared-storage/Data_LaurieV/output_data/SnowWarming_1995_2014/SnowWarming_MPI-ESM1-2-LR_historical+ssp585.nc\n",
      "Fichier sauvegardé : /home/jovyan/shared-storage/Data_LaurieV/output_data/snow_SW_1995-2014/MPI-ESM1-2-LR_SW_reprojete.nc\n",
      "Traitement du modèle MRI-ESM2-0 : /home/jovyan/shared-storage/Data_LaurieV/output_data/SnowWarming_1995_2014/SnowWarming_MRI-ESM2-0_historical+ssp585.nc\n",
      "Fichier sauvegardé : /home/jovyan/shared-storage/Data_LaurieV/output_data/snow_SW_1995-2014/MRI-ESM2-0_SW_reprojete.nc\n",
      "Traitement du modèle NorESM2-LM : /home/jovyan/shared-storage/Data_LaurieV/output_data/SnowWarming_1995_2014/SnowWarming_NorESM2-LM_historical+ssp585.nc\n",
      "Fichier sauvegardé : /home/jovyan/shared-storage/Data_LaurieV/output_data/snow_SW_1995-2014/NorESM2-LM_SW_reprojete.nc\n",
      "Traitement du modèle NorESM2-MM : /home/jovyan/shared-storage/Data_LaurieV/output_data/SnowWarming_1995_2014/SnowWarming_NorESM2-MM_historical+ssp585.nc\n",
      "Fichier sauvegardé : /home/jovyan/shared-storage/Data_LaurieV/output_data/snow_SW_1995-2014/NorESM2-MM_SW_reprojete.nc\n",
      "Traitement du modèle UKESM1-0-LL : /home/jovyan/shared-storage/Data_LaurieV/output_data/SnowWarming_1995_2014/SnowWarming_UKESM1-0-LL_historical+ssp585.nc\n",
      "Fichier sauvegardé : /home/jovyan/shared-storage/Data_LaurieV/output_data/snow_SW_1995-2014/UKESM1-0-LL_SW_reprojete.nc\n"
     ]
    }
   ],
   "source": [
    "models = [\n",
    "    \"BCC-CSM2-MR\", \"CanESM5\", \"CanESM5-CanOE\", \"CESM2\", \"CESM2-WACCM\", \"CIESM\",\n",
    "    \"CNRM-CM6-1\", \"CNRM-CM6-1-HR\", \"CNRM-ESM2-1\", \"EC-Earth3\", \"EC-Earth3-Veg\",\n",
    "    \"FGOALS-f3-L\", \"FGOALS-g3\", \"GFDL-CM4\", \"GISS-E2-1-G\", \"HadGEM3-GC31-LL\",\n",
    "    \"IPSL-CM6A-LR\", \"MIROC-ES2L\", \"MIROC6\", \"MPI-ESM1-2-HR\", \"MPI-ESM1-2-LR\",\n",
    "    \"MRI-ESM2-0\", \"NorESM2-LM\", \"NorESM2-MM\", \"UKESM1-0-LL\"\n",
    "]\n",
    "\n",
    "regrid_model_files(\n",
    "    models=models,\n",
    "    ref_grid=ref_grid,\n",
    "    output_dir=\"/home/jovyan/shared-storage/Data_LaurieV/output_data2/snow_SW_1995-2014\",\n",
    "    filename_template=\"SnowWarming_{model}_historical+ssp585.nc\",\n",
    "    input_dirs=[\n",
    "        \"/home/jovyan/shared-storage/Data_LaurieV/output_data2/SnowWarming_1995_2014/\"\n",
    "    ],\n",
    "    output_name_template=\"{model}_SW_reprojete.nc\"\n",
    ")"
   ]
  },
  {
   "cell_type": "markdown",
   "id": "5a592311-83c6-4852-b697-79a0eb400eba",
   "metadata": {},
   "source": [
    "### Sftlf"
   ]
  },
  {
   "cell_type": "code",
   "execution_count": 10,
   "id": "681318b9-ea1d-423a-8525-d6b95158d2b2",
   "metadata": {},
   "outputs": [
    {
     "name": "stdout",
     "output_type": "stream",
     "text": [
      "Traitement du modèle BCC-CSM2-MR : /home/jovyan/shared-storage/Data_LaurieV/input_data/mask/pseudo_sftlf/sftlf_BCC-CSM2-MR.nc\n",
      "Fichier sauvegardé : /home/jovyan/shared-storage/Data_LaurieV/output_data/sftlf/BCC-CSM2-MR_sftlf_reprojete.nc\n",
      "Traitement du modèle CanESM5 : /home/jovyan/shared-storage/Data_LaurieV/input_data/mask/sftlf/sftlf_CanESM5.nc\n",
      "Fichier sauvegardé : /home/jovyan/shared-storage/Data_LaurieV/output_data/sftlf/CanESM5_sftlf_reprojete.nc\n",
      "Traitement du modèle CanESM5-CanOE : /home/jovyan/shared-storage/Data_LaurieV/input_data/mask/sftlf/sftlf_CanESM5-CanOE.nc\n",
      "Fichier sauvegardé : /home/jovyan/shared-storage/Data_LaurieV/output_data/sftlf/CanESM5-CanOE_sftlf_reprojete.nc\n",
      "Traitement du modèle CESM2 : /home/jovyan/shared-storage/Data_LaurieV/input_data/mask/sftlf/sftlf_CESM2.nc\n"
     ]
    },
    {
     "name": "stderr",
     "output_type": "stream",
     "text": [
      "/srv/conda/envs/notebook/lib/python3.12/site-packages/xarray/conventions.py:193: SerializationWarning: variable 'sftlf' has multiple fill values {np.float32(1e+20), np.float64(1e+20)} defined, decoding all values to NaN.\n",
      "  var = coder.decode(var, name=name)\n"
     ]
    },
    {
     "name": "stdout",
     "output_type": "stream",
     "text": [
      "Fichier sauvegardé : /home/jovyan/shared-storage/Data_LaurieV/output_data/sftlf/CESM2_sftlf_reprojete.nc\n",
      "Traitement du modèle CESM2-WACCM : /home/jovyan/shared-storage/Data_LaurieV/input_data/mask/sftlf/sftlf_CESM2-WACCM.nc\n"
     ]
    },
    {
     "name": "stderr",
     "output_type": "stream",
     "text": [
      "/srv/conda/envs/notebook/lib/python3.12/site-packages/xarray/conventions.py:193: SerializationWarning: variable 'sftlf' has multiple fill values {np.float32(1e+20), np.float64(1e+20)} defined, decoding all values to NaN.\n",
      "  var = coder.decode(var, name=name)\n"
     ]
    },
    {
     "name": "stdout",
     "output_type": "stream",
     "text": [
      "Fichier sauvegardé : /home/jovyan/shared-storage/Data_LaurieV/output_data/sftlf/CESM2-WACCM_sftlf_reprojete.nc\n",
      "Traitement du modèle CIESM : /home/jovyan/shared-storage/Data_LaurieV/input_data/mask/sftlf/sftlf_CIESM.nc\n",
      "Fichier sauvegardé : /home/jovyan/shared-storage/Data_LaurieV/output_data/sftlf/CIESM_sftlf_reprojete.nc\n",
      "Traitement du modèle CNRM-CM6-1 : /home/jovyan/shared-storage/Data_LaurieV/input_data/mask/sftlf/sftlf_CNRM-CM6-1.nc\n",
      "Fichier sauvegardé : /home/jovyan/shared-storage/Data_LaurieV/output_data/sftlf/CNRM-CM6-1_sftlf_reprojete.nc\n",
      "Traitement du modèle CNRM-CM6-1-HR : /home/jovyan/shared-storage/Data_LaurieV/input_data/mask/sftlf/sftlf_CNRM-CM6-1-HR.nc\n",
      "Fichier sauvegardé : /home/jovyan/shared-storage/Data_LaurieV/output_data/sftlf/CNRM-CM6-1-HR_sftlf_reprojete.nc\n",
      "Traitement du modèle CNRM-ESM2-1 : /home/jovyan/shared-storage/Data_LaurieV/input_data/mask/sftlf/sftlf_CNRM-ESM2-1.nc\n",
      "Fichier sauvegardé : /home/jovyan/shared-storage/Data_LaurieV/output_data/sftlf/CNRM-ESM2-1_sftlf_reprojete.nc\n",
      "Traitement du modèle EC-Earth3 : /home/jovyan/shared-storage/Data_LaurieV/input_data/mask/sftlf/sftlf_EC-Earth3.nc\n",
      "Fichier sauvegardé : /home/jovyan/shared-storage/Data_LaurieV/output_data/sftlf/EC-Earth3_sftlf_reprojete.nc\n",
      "Traitement du modèle EC-Earth3-Veg : /home/jovyan/shared-storage/Data_LaurieV/input_data/mask/sftlf/sftlf_EC-Earth3-Veg.nc\n",
      "Fichier sauvegardé : /home/jovyan/shared-storage/Data_LaurieV/output_data/sftlf/EC-Earth3-Veg_sftlf_reprojete.nc\n",
      "Traitement du modèle FGOALS-f3-L : /home/jovyan/shared-storage/Data_LaurieV/input_data/mask/sftlf/sftlf_FGOALS-f3-L.nc\n",
      "Fichier sauvegardé : /home/jovyan/shared-storage/Data_LaurieV/output_data/sftlf/FGOALS-f3-L_sftlf_reprojete.nc\n",
      "Traitement du modèle FGOALS-g3 : /home/jovyan/shared-storage/Data_LaurieV/input_data/mask/sftlf/sftlf_FGOALS-g3.nc\n",
      "Fichier sauvegardé : /home/jovyan/shared-storage/Data_LaurieV/output_data/sftlf/FGOALS-g3_sftlf_reprojete.nc\n",
      "Traitement du modèle GFDL-CM4 : /home/jovyan/shared-storage/Data_LaurieV/input_data/mask/sftlf/sftlf_GFDL-CM4.nc\n",
      "Fichier sauvegardé : /home/jovyan/shared-storage/Data_LaurieV/output_data/sftlf/GFDL-CM4_sftlf_reprojete.nc\n",
      "Traitement du modèle GISS-E2-1-G : /home/jovyan/shared-storage/Data_LaurieV/input_data/mask/sftlf/sftlf_GISS-E2-1-G.nc\n",
      "Fichier sauvegardé : /home/jovyan/shared-storage/Data_LaurieV/output_data/sftlf/GISS-E2-1-G_sftlf_reprojete.nc\n",
      "Traitement du modèle HadGEM3-GC31-LL : /home/jovyan/shared-storage/Data_LaurieV/input_data/mask/sftlf/sftlf_HadGEM3-GC31-LL.nc\n",
      "Fichier sauvegardé : /home/jovyan/shared-storage/Data_LaurieV/output_data/sftlf/HadGEM3-GC31-LL_sftlf_reprojete.nc\n",
      "Traitement du modèle IPSL-CM6A-LR : /home/jovyan/shared-storage/Data_LaurieV/input_data/mask/sftlf/sftlf_IPSL-CM6A-LR.nc\n",
      "Fichier sauvegardé : /home/jovyan/shared-storage/Data_LaurieV/output_data/sftlf/IPSL-CM6A-LR_sftlf_reprojete.nc\n",
      "Traitement du modèle MIROC-ES2L : /home/jovyan/shared-storage/Data_LaurieV/input_data/mask/sftlf/sftlf_MIROC-ES2L.nc\n",
      "Fichier sauvegardé : /home/jovyan/shared-storage/Data_LaurieV/output_data/sftlf/MIROC-ES2L_sftlf_reprojete.nc\n",
      "Traitement du modèle MIROC6 : /home/jovyan/shared-storage/Data_LaurieV/input_data/mask/sftlf/sftlf_MIROC6.nc\n",
      "Fichier sauvegardé : /home/jovyan/shared-storage/Data_LaurieV/output_data/sftlf/MIROC6_sftlf_reprojete.nc\n",
      "Traitement du modèle MPI-ESM1-2-HR : /home/jovyan/shared-storage/Data_LaurieV/input_data/mask/sftlf/sftlf_MPI-ESM1-2-HR.nc\n",
      "Fichier sauvegardé : /home/jovyan/shared-storage/Data_LaurieV/output_data/sftlf/MPI-ESM1-2-HR_sftlf_reprojete.nc\n",
      "Traitement du modèle MPI-ESM1-2-LR : /home/jovyan/shared-storage/Data_LaurieV/input_data/mask/sftlf/sftlf_MPI-ESM1-2-LR.nc\n",
      "Fichier sauvegardé : /home/jovyan/shared-storage/Data_LaurieV/output_data/sftlf/MPI-ESM1-2-LR_sftlf_reprojete.nc\n",
      "Traitement du modèle MRI-ESM2-0 : /home/jovyan/shared-storage/Data_LaurieV/input_data/mask/sftlf/sftlf_MRI-ESM2-0.nc\n",
      "Fichier sauvegardé : /home/jovyan/shared-storage/Data_LaurieV/output_data/sftlf/MRI-ESM2-0_sftlf_reprojete.nc\n",
      "Traitement du modèle NorESM2-LM : /home/jovyan/shared-storage/Data_LaurieV/input_data/mask/sftlf/sftlf_NorESM2-LM.nc\n",
      "Fichier sauvegardé : /home/jovyan/shared-storage/Data_LaurieV/output_data/sftlf/NorESM2-LM_sftlf_reprojete.nc\n",
      "Traitement du modèle NorESM2-MM : /home/jovyan/shared-storage/Data_LaurieV/input_data/mask/sftlf/sftlf_NorESM2-MM.nc\n",
      "Fichier sauvegardé : /home/jovyan/shared-storage/Data_LaurieV/output_data/sftlf/NorESM2-MM_sftlf_reprojete.nc\n",
      "Traitement du modèle UKESM1-0-LL : /home/jovyan/shared-storage/Data_LaurieV/input_data/mask/sftlf/sftlf_UKESM1-0-LL.nc\n",
      "Fichier sauvegardé : /home/jovyan/shared-storage/Data_LaurieV/output_data/sftlf/UKESM1-0-LL_sftlf_reprojete.nc\n"
     ]
    }
   ],
   "source": [
    "models = [\n",
    "    \"BCC-CSM2-MR\", \"CanESM5\", \"CanESM5-CanOE\", \"CESM2\", \"CESM2-WACCM\", \"CIESM\",\n",
    "    \"CNRM-CM6-1\", \"CNRM-CM6-1-HR\", \"CNRM-ESM2-1\", \"EC-Earth3\", \"EC-Earth3-Veg\",\n",
    "    \"FGOALS-f3-L\", \"FGOALS-g3\", \"GFDL-CM4\", \"GISS-E2-1-G\", \"HadGEM3-GC31-LL\",\n",
    "    \"IPSL-CM6A-LR\", \"MIROC-ES2L\", \"MIROC6\", \"MPI-ESM1-2-HR\", \"MPI-ESM1-2-LR\",\n",
    "    \"MRI-ESM2-0\", \"NorESM2-LM\", \"NorESM2-MM\", \"UKESM1-0-LL\"\n",
    "]\n",
    "\n",
    "regrid_model_files(\n",
    "    models=models,\n",
    "    ref_grid=ref_grid,\n",
    "    output_dir=\"/home/jovyan/shared-storage/Data_LaurieV/output_data2/sftlf\",\n",
    "    filename_template=\"sftlf_{model}.nc\",\n",
    "    input_dirs=[\n",
    "        \"/home/jovyan/shared-storage/Data_LaurieV/input_data/mask/sftlf/\",\n",
    "        \"/home/jovyan/shared-storage/Data_LaurieV/input_data/mask/pseudo_sftlf/\"\n",
    "    ],\n",
    "    output_name_template=\"{model}_sftlf_reprojete.nc\"\n",
    ")"
   ]
  },
  {
   "cell_type": "markdown",
   "id": "ea084a68-3c87-43fc-9208-07c5c5d73c12",
   "metadata": {},
   "source": [
    "### Sftgif"
   ]
  },
  {
   "cell_type": "code",
   "execution_count": 11,
   "id": "e3cf58fe-5197-4e28-b2c0-aca745f55c28",
   "metadata": {},
   "outputs": [
    {
     "name": "stdout",
     "output_type": "stream",
     "text": [
      "Traitement du modèle BCC-CSM2-MR : /home/jovyan/shared-storage/Data_LaurieV/input_data/mask/pseudo_sftgif/sftgif_BCC-CSM2-MR.nc\n",
      "Fichier sauvegardé : /home/jovyan/shared-storage/Data_LaurieV/output_data/sftgif/BCC-CSM2-MR_sftgif_reprojete.nc\n",
      "Traitement du modèle CanESM5 : /home/jovyan/shared-storage/Data_LaurieV/input_data/mask/sftgif/sftgif_CanESM5.nc\n",
      "Fichier sauvegardé : /home/jovyan/shared-storage/Data_LaurieV/output_data/sftgif/CanESM5_sftgif_reprojete.nc\n",
      "Traitement du modèle CanESM5-CanOE : /home/jovyan/shared-storage/Data_LaurieV/input_data/mask/sftgif/sftgif_CanESM5-CanOE.nc\n",
      "Fichier sauvegardé : /home/jovyan/shared-storage/Data_LaurieV/output_data/sftgif/CanESM5-CanOE_sftgif_reprojete.nc\n",
      "Traitement du modèle CESM2 : /home/jovyan/shared-storage/Data_LaurieV/input_data/mask/sftgif/sftgif_CESM2.nc\n"
     ]
    },
    {
     "name": "stderr",
     "output_type": "stream",
     "text": [
      "/srv/conda/envs/notebook/lib/python3.12/site-packages/xarray/conventions.py:193: SerializationWarning: variable 'sftgif' has multiple fill values {np.float32(1e+20), np.float64(1e+20)} defined, decoding all values to NaN.\n",
      "  var = coder.decode(var, name=name)\n"
     ]
    },
    {
     "name": "stdout",
     "output_type": "stream",
     "text": [
      "Fichier sauvegardé : /home/jovyan/shared-storage/Data_LaurieV/output_data/sftgif/CESM2_sftgif_reprojete.nc\n",
      "Traitement du modèle CESM2-WACCM : /home/jovyan/shared-storage/Data_LaurieV/input_data/mask/sftgif/sftgif_CESM2-WACCM.nc\n"
     ]
    },
    {
     "name": "stderr",
     "output_type": "stream",
     "text": [
      "/srv/conda/envs/notebook/lib/python3.12/site-packages/xarray/conventions.py:193: SerializationWarning: variable 'sftgif' has multiple fill values {np.float32(1e+20), np.float64(1e+20)} defined, decoding all values to NaN.\n",
      "  var = coder.decode(var, name=name)\n"
     ]
    },
    {
     "name": "stdout",
     "output_type": "stream",
     "text": [
      "Fichier sauvegardé : /home/jovyan/shared-storage/Data_LaurieV/output_data/sftgif/CESM2-WACCM_sftgif_reprojete.nc\n",
      "Traitement du modèle CIESM : /home/jovyan/shared-storage/Data_LaurieV/input_data/mask/sftgif/sftgif_CIESM.nc\n",
      "Fichier sauvegardé : /home/jovyan/shared-storage/Data_LaurieV/output_data/sftgif/CIESM_sftgif_reprojete.nc\n",
      "Traitement du modèle CNRM-CM6-1 : /home/jovyan/shared-storage/Data_LaurieV/input_data/mask/sftgif/sftgif_CNRM-CM6-1.nc\n",
      "Fichier sauvegardé : /home/jovyan/shared-storage/Data_LaurieV/output_data/sftgif/CNRM-CM6-1_sftgif_reprojete.nc\n",
      "Traitement du modèle CNRM-CM6-1-HR : /home/jovyan/shared-storage/Data_LaurieV/input_data/mask/sftgif/sftgif_CNRM-CM6-1-HR.nc\n",
      "Fichier sauvegardé : /home/jovyan/shared-storage/Data_LaurieV/output_data/sftgif/CNRM-CM6-1-HR_sftgif_reprojete.nc\n",
      "Traitement du modèle CNRM-ESM2-1 : /home/jovyan/shared-storage/Data_LaurieV/input_data/mask/sftgif/sftgif_CNRM-ESM2-1.nc\n",
      "Fichier sauvegardé : /home/jovyan/shared-storage/Data_LaurieV/output_data/sftgif/CNRM-ESM2-1_sftgif_reprojete.nc\n",
      "Traitement du modèle EC-Earth3 : /home/jovyan/shared-storage/Data_LaurieV/input_data/mask/sftgif/sftgif_EC-Earth3.nc\n",
      "Fichier sauvegardé : /home/jovyan/shared-storage/Data_LaurieV/output_data/sftgif/EC-Earth3_sftgif_reprojete.nc\n",
      "Traitement du modèle EC-Earth3-Veg : /home/jovyan/shared-storage/Data_LaurieV/input_data/mask/sftgif/sftgif_EC-Earth3-Veg.nc\n",
      "Fichier sauvegardé : /home/jovyan/shared-storage/Data_LaurieV/output_data/sftgif/EC-Earth3-Veg_sftgif_reprojete.nc\n",
      "Traitement du modèle FGOALS-f3-L : /home/jovyan/shared-storage/Data_LaurieV/input_data/mask/sftgif/sftgif_FGOALS-f3-L.nc\n",
      "Fichier sauvegardé : /home/jovyan/shared-storage/Data_LaurieV/output_data/sftgif/FGOALS-f3-L_sftgif_reprojete.nc\n",
      "Traitement du modèle FGOALS-g3 : /home/jovyan/shared-storage/Data_LaurieV/input_data/mask/sftgif/sftgif_FGOALS-g3.nc\n",
      "Fichier sauvegardé : /home/jovyan/shared-storage/Data_LaurieV/output_data/sftgif/FGOALS-g3_sftgif_reprojete.nc\n",
      "Traitement du modèle GFDL-CM4 : /home/jovyan/shared-storage/Data_LaurieV/input_data/mask/sftgif/sftgif_GFDL-CM4.nc\n",
      "Fichier sauvegardé : /home/jovyan/shared-storage/Data_LaurieV/output_data/sftgif/GFDL-CM4_sftgif_reprojete.nc\n",
      "Traitement du modèle GISS-E2-1-G : /home/jovyan/shared-storage/Data_LaurieV/input_data/mask/sftgif/sftgif_GISS-E2-1-G.nc\n",
      "Fichier sauvegardé : /home/jovyan/shared-storage/Data_LaurieV/output_data/sftgif/GISS-E2-1-G_sftgif_reprojete.nc\n",
      "Traitement du modèle HadGEM3-GC31-LL : /home/jovyan/shared-storage/Data_LaurieV/input_data/mask/pseudo_sftgif/sftgif_HadGEM3-GC31-LL.nc\n",
      "Fichier sauvegardé : /home/jovyan/shared-storage/Data_LaurieV/output_data/sftgif/HadGEM3-GC31-LL_sftgif_reprojete.nc\n",
      "Traitement du modèle IPSL-CM6A-LR : /home/jovyan/shared-storage/Data_LaurieV/input_data/mask/pseudo_sftgif/sftgif_IPSL-CM6A-LR.nc\n",
      "Fichier sauvegardé : /home/jovyan/shared-storage/Data_LaurieV/output_data/sftgif/IPSL-CM6A-LR_sftgif_reprojete.nc\n",
      "Traitement du modèle MIROC-ES2L : /home/jovyan/shared-storage/Data_LaurieV/input_data/mask/sftgif/sftgif_MIROC-ES2L.nc\n",
      "Fichier sauvegardé : /home/jovyan/shared-storage/Data_LaurieV/output_data/sftgif/MIROC-ES2L_sftgif_reprojete.nc\n",
      "Traitement du modèle MIROC6 : /home/jovyan/shared-storage/Data_LaurieV/input_data/mask/pseudo_sftgif/sftgif_MIROC6.nc\n",
      "Fichier sauvegardé : /home/jovyan/shared-storage/Data_LaurieV/output_data/sftgif/MIROC6_sftgif_reprojete.nc\n",
      "Traitement du modèle MPI-ESM1-2-HR : /home/jovyan/shared-storage/Data_LaurieV/input_data/mask/sftgif/sftgif_MPI-ESM1-2-HR.nc\n",
      "Fichier sauvegardé : /home/jovyan/shared-storage/Data_LaurieV/output_data/sftgif/MPI-ESM1-2-HR_sftgif_reprojete.nc\n",
      "Traitement du modèle MPI-ESM1-2-LR : /home/jovyan/shared-storage/Data_LaurieV/input_data/mask/sftgif/sftgif_MPI-ESM1-2-LR.nc\n",
      "Fichier sauvegardé : /home/jovyan/shared-storage/Data_LaurieV/output_data/sftgif/MPI-ESM1-2-LR_sftgif_reprojete.nc\n",
      "Traitement du modèle MRI-ESM2-0 : /home/jovyan/shared-storage/Data_LaurieV/input_data/mask/sftgif/sftgif_MRI-ESM2-0.nc\n",
      "Fichier sauvegardé : /home/jovyan/shared-storage/Data_LaurieV/output_data/sftgif/MRI-ESM2-0_sftgif_reprojete.nc\n",
      "Traitement du modèle NorESM2-LM : /home/jovyan/shared-storage/Data_LaurieV/input_data/mask/sftgif/sftgif_NorESM2-LM.nc\n",
      "Fichier sauvegardé : /home/jovyan/shared-storage/Data_LaurieV/output_data/sftgif/NorESM2-LM_sftgif_reprojete.nc\n",
      "Traitement du modèle NorESM2-MM : /home/jovyan/shared-storage/Data_LaurieV/input_data/mask/sftgif/sftgif_NorESM2-MM.nc\n",
      "Fichier sauvegardé : /home/jovyan/shared-storage/Data_LaurieV/output_data/sftgif/NorESM2-MM_sftgif_reprojete.nc\n",
      "Traitement du modèle UKESM1-0-LL : /home/jovyan/shared-storage/Data_LaurieV/input_data/mask/pseudo_sftgif/sftgif_UKESM1-0-LL.nc\n",
      "Fichier sauvegardé : /home/jovyan/shared-storage/Data_LaurieV/output_data/sftgif/UKESM1-0-LL_sftgif_reprojete.nc\n"
     ]
    }
   ],
   "source": [
    "models = [\n",
    "    \"BCC-CSM2-MR\", \"CanESM5\", \"CanESM5-CanOE\", \"CESM2\", \"CESM2-WACCM\", \"CIESM\",\n",
    "    \"CNRM-CM6-1\", \"CNRM-CM6-1-HR\", \"CNRM-ESM2-1\", \"EC-Earth3\", \"EC-Earth3-Veg\",\n",
    "    \"FGOALS-f3-L\", \"FGOALS-g3\", \"GFDL-CM4\", \"GISS-E2-1-G\", \"HadGEM3-GC31-LL\",\n",
    "    \"IPSL-CM6A-LR\", \"MIROC-ES2L\", \"MIROC6\", \"MPI-ESM1-2-HR\", \"MPI-ESM1-2-LR\",\n",
    "    \"MRI-ESM2-0\", \"NorESM2-LM\", \"NorESM2-MM\", \"UKESM1-0-LL\"\n",
    "]\n",
    "\n",
    "regrid_model_files(\n",
    "    models=models,\n",
    "    ref_grid=ref_grid,\n",
    "    output_dir=\"/home/jovyan/shared-storage/Data_LaurieV/output_data2/sftgif\",\n",
    "    filename_template=\"sftgif_{model}.nc\",\n",
    "    input_dirs=[\n",
    "        \"/home/jovyan/shared-storage/Data_LaurieV/input_data/mask/sftgif/\",\n",
    "        \"/home/jovyan/shared-storage/Data_LaurieV/input_data/mask/pseudo_sftgif/\"\n",
    "    ],\n",
    "    output_name_template=\"{model}_sftgif_reprojete.nc\"\n",
    ")"
   ]
  },
  {
   "cell_type": "markdown",
   "id": "e034a7ee-29f4-4e2c-9c03-c54147e79c13",
   "metadata": {},
   "source": [
    "## Conclusion\n",
    "\n",
    "This notebook simply allows you to obtain new output files, all interpolated on the same grid to facilitate subsequent analysis. This way, the old files used here as input will no longer be used. In addition, all files have a common name to facilitate the following steps."
   ]
  }
 ],
 "metadata": {
  "kernelspec": {
   "display_name": "Python 3 (ipykernel)",
   "language": "python",
   "name": "python3"
  },
  "language_info": {
   "codemirror_mode": {
    "name": "ipython",
    "version": 3
   },
   "file_extension": ".py",
   "mimetype": "text/x-python",
   "name": "python",
   "nbconvert_exporter": "python",
   "pygments_lexer": "ipython3",
   "version": "3.12.8"
  }
 },
 "nbformat": 4,
 "nbformat_minor": 5
}
