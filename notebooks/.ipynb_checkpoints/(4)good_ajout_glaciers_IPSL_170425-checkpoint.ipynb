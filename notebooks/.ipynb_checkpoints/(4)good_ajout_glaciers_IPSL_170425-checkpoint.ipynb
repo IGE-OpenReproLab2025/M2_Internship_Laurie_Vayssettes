{
 "cells": [
  {
   "cell_type": "markdown",
   "id": "c60eeea0-890d-4ed0-8e15-c2ba257ddd86",
   "metadata": {},
   "source": [
    "# Glaciers adding in the IPSL model"
   ]
  },
  {
   "cell_type": "markdown",
   "id": "e01feb28-7425-49d6-8560-857fa391b827",
   "metadata": {},
   "source": [
    "## Objective\n",
    "The objective of this notebook is to put glaciers on the IPSL model because it is the only model for which they not appear on the ouput files."
   ]
  },
  {
   "cell_type": "code",
   "execution_count": 1,
   "id": "89099172-7740-401d-af5f-2917cfa763c4",
   "metadata": {},
   "outputs": [
    {
     "name": "stdout",
     "output_type": "stream",
     "text": [
      "Last updated: 2025-06-27T08:45:44.303982+00:00\n",
      "\n",
      "Python implementation: CPython\n",
      "Python version       : 3.12.8\n",
      "IPython version      : 8.17.2\n",
      "\n",
      "Compiler    : GCC 13.3.0\n",
      "OS          : Linux\n",
      "Release     : 6.8.0-58-generic\n",
      "Machine     : x86_64\n",
      "Processor   : x86_64\n",
      "CPU cores   : 8\n",
      "Architecture: 64bit\n",
      "\n"
     ]
    }
   ],
   "source": [
    "from watermark import watermark\n",
    "%load_ext watermark\n",
    "print(watermark())"
   ]
  },
  {
   "cell_type": "code",
   "execution_count": 2,
   "id": "00d91dcd-99de-4a0b-908c-cafd5004e3b3",
   "metadata": {},
   "outputs": [
    {
     "name": "stdout",
     "output_type": "stream",
     "text": [
      "Projet root ajouté au path: /home/jovyan/M2_Snow_project/notebooks/codes_ORL_evaluation\n"
     ]
    }
   ],
   "source": [
    "import sys\n",
    "import os\n",
    "\n",
    "# Chemin absolu vers le dossier codes_ORL_evaluation\n",
    "project_root = os.path.abspath(os.path.join(os.getcwd(), \"..\"))\n",
    "\n",
    "# Ajout du chemin au sys.path\n",
    "if project_root not in sys.path:\n",
    "    sys.path.insert(0, project_root)\n",
    "\n",
    "print(\"Projet root ajouté au path:\", project_root)"
   ]
  },
  {
   "cell_type": "code",
   "execution_count": null,
   "id": "e81849da-25ce-4957-870a-41f53f384d98",
   "metadata": {},
   "outputs": [],
   "source": [
    "pip install cdo"
   ]
  },
  {
   "cell_type": "code",
   "execution_count": 3,
   "id": "1074a4c8-f3c7-4839-9971-8a51c89bc508",
   "metadata": {},
   "outputs": [
    {
     "name": "stderr",
     "output_type": "stream",
     "text": [
      "/srv/conda/envs/notebook/lib/python3.12/site-packages/esmpy/interface/loadESMF.py:94: VersionWarning: ESMF installation version 8.8.0, ESMPy version 8.8.0b0\n",
      "  warnings.warn(\"ESMF installation version {}, ESMPy version {}\".format(\n"
     ]
    }
   ],
   "source": [
    "from module import *"
   ]
  },
  {
   "cell_type": "code",
   "execution_count": 4,
   "id": "584e8163-1d4c-47a9-88a9-e05e9324b048",
   "metadata": {},
   "outputs": [
    {
     "name": "stdout",
     "output_type": "stream",
     "text": [
      "cartopy   : 0.24.0\n",
      "netCDF4   : 1.7.2\n",
      "pandas    : 2.2.3\n",
      "numpy     : 2.0.2\n",
      "watermark : 2.5.0\n",
      "skimage   : 0.25.0\n",
      "seaborn   : 0.13.2\n",
      "xarray    : 2025.1.1\n",
      "cdo       : 1.6.1\n",
      "xesmf     : 0.8.8\n",
      "sys       : 3.12.8 | packaged by conda-forge | (main, Dec  5 2024, 14:24:40) [GCC 13.3.0]\n",
      "csv       : 1.0\n",
      "matplotlib: 3.10.0\n",
      "\n"
     ]
    }
   ],
   "source": [
    "%watermark --iversions"
   ]
  },
  {
   "cell_type": "markdown",
   "id": "09dcd8f7-8d2a-4dab-8c38-730dbc21b805",
   "metadata": {},
   "source": [
    "### Output files : SnowWarming regridded (reference period 1850-1900)"
   ]
  },
  {
   "cell_type": "code",
   "execution_count": 10,
   "id": "b6e80a14-3e21-4ce2-9851-aca068bf4288",
   "metadata": {},
   "outputs": [],
   "source": [
    "path_snc = os.path.join(\"~/M2_Snow_project/notebooks/codes_ORL_evaluation/output_data/snow_SW_1850-1900/\", \"IPSL-CM6A-LR_SW_reprojete.nc\")\n",
    "path_sftgif = os.path.join(\"/home/jovyan/M2_Snow_project/notebooks/codes_ORL_evaluation/output_data/sftgif/\", \"IPSL-CM6A-LR_sftgif_reprojete.nc\")\n",
    "\n",
    "ds_snc = xr.open_dataset(path_snc) \n",
    "ds_sftgif = xr.open_dataset(path_sftgif)\n",
    "\n",
    "sncbin = ds_snc[\"sncbin\"]\n",
    "sftgif = ds_sftgif[\"sftgif\"]\n",
    "\n",
    "# création d'un masque qui remarque les valeurs de sncbin comme nan ou > à 1e19\n",
    "mask = np.isnan(sncbin) | (sncbin > 1e19)\n",
    "\n",
    "# lorsque sncbin a les valeurs du masque, on remplace par sftgif\n",
    "snc_combined = sncbin.where(~mask, sftgif)"
   ]
  },
  {
   "cell_type": "code",
   "execution_count": 11,
   "id": "a6d13dcc-8391-4e71-9fde-8aa7a2c402a9",
   "metadata": {},
   "outputs": [],
   "source": [
    "snc_combined.to_netcdf(\"~/M2_Snow_project/notebooks/codes_ORL_evaluation/output_data/snow_SW_1850-1900/IPSL-CM6A-LR2_SW_reprojete.nc\", format=\"NETCDF4\")"
   ]
  },
  {
   "cell_type": "markdown",
   "id": "c0ab7130-477d-4f78-b35c-a2ea27a268dd",
   "metadata": {},
   "source": [
    "### Output files : SnowWarming regridded (reference period 1995-2014)"
   ]
  },
  {
   "cell_type": "code",
   "execution_count": 8,
   "id": "48a8cfef-7be0-4fd0-a583-835607f671bf",
   "metadata": {},
   "outputs": [],
   "source": [
    "path_snc = os.path.join(\"~/M2_Snow_project/notebooks/codes_ORL_evaluation/output_data/snow_SW_1995-2014/\", \"IPSL-CM6A-LR_SW_reprojete.nc\")\n",
    "path_sftgif = os.path.join(\"/home/jovyan/M2_Snow_project/notebooks/codes_ORL_evaluation/output_data/sftgif/\", \"IPSL-CM6A-LR_sftgif_reprojete.nc\")\n",
    "\n",
    "ds_snc = xr.open_dataset(path_snc)\n",
    "ds_sftgif = xr.open_dataset(path_sftgif)\n",
    "\n",
    "sncbin = ds_snc[\"sncbin\"]\n",
    "sftgif = ds_sftgif[\"sftgif\"]\n",
    "\n",
    "# création d'un masque qui remarque les valeurs de sncbin comme nan ou > à 1e19\n",
    "mask = np.isnan(sncbin) | (sncbin > 1e19)\n",
    "\n",
    "# lorsque sncbin a les valeurs du masque, on remplace par sftgif\n",
    "snc_combined = sncbin.where(~mask, sftgif)"
   ]
  },
  {
   "cell_type": "code",
   "execution_count": 9,
   "id": "2996fec9-611d-498b-8551-dfa4f5b4d868",
   "metadata": {},
   "outputs": [],
   "source": [
    "snc_combined.to_netcdf(\"~/M2_Snow_project/notebooks/codes_ORL_evaluation/output_data/snow_SW_1995-2014/IPSL-CM6A-LR2_SW_reprojete.nc\", format=\"NETCDF4\")"
   ]
  },
  {
   "cell_type": "markdown",
   "id": "66e84ca9-f29c-4d41-a61f-f88978d9b009",
   "metadata": {},
   "source": [
    "### Regridded historical file"
   ]
  },
  {
   "cell_type": "code",
   "execution_count": 5,
   "id": "37276e33-505d-4bd1-b690-e38d54541136",
   "metadata": {},
   "outputs": [],
   "source": [
    "path_snc = os.path.join(\"/home/jovyan/M2_Snow_project/notebooks/codes_ORL_evaluation/output_data/snow_hist/\", \"IPSL-CM6A-LR_hist_reprojete.nc\")\n",
    "path_sftgif = os.path.join(\"/home/jovyan/M2_Snow_project/notebooks/codes_ORL_evaluation/output_data/sftgif/\", \"IPSL-CM6A-LR_sftgif_reprojete.nc\")\n",
    "\n",
    "ds_snc = xr.open_dataset(path_snc)\n",
    "ds_sftgif = xr.open_dataset(path_sftgif)\n",
    "\n",
    "snc = ds_snc[\"snc\"]\n",
    "sftgif = ds_sftgif[\"sftgif\"]\n",
    "\n",
    "# Option 1: Remplacer les NaN de snc par sftgif là où snc est NaN\n",
    "snc_combined_hist = snc.where(~np.isnan(snc), sftgif)"
   ]
  },
  {
   "cell_type": "code",
   "execution_count": 7,
   "id": "1db49a39-4fcc-4856-90fc-80aab9808ada",
   "metadata": {},
   "outputs": [],
   "source": [
    "snc_combined_hist.to_netcdf(\"~/M2_Snow_project/notebooks/codes_ORL_evaluation/output_data/snow_hist/IPSL-CM6A-LR2_hist_reprojete.nc\", format=\"NETCDF4\")"
   ]
  },
  {
   "cell_type": "markdown",
   "id": "a5fc685e-a975-4c22-b9fd-83967da19712",
   "metadata": {},
   "source": [
    "## Conclusion\n",
    "\n",
    "This notebook produce new files with glaciers for the IPSL model which will be used later."
   ]
  }
 ],
 "metadata": {
  "kernelspec": {
   "display_name": "Python 3 (ipykernel)",
   "language": "python",
   "name": "python3"
  },
  "language_info": {
   "codemirror_mode": {
    "name": "ipython",
    "version": 3
   },
   "file_extension": ".py",
   "mimetype": "text/x-python",
   "name": "python",
   "nbconvert_exporter": "python",
   "pygments_lexer": "ipython3",
   "version": "3.12.8"
  }
 },
 "nbformat": 4,
 "nbformat_minor": 5
}
